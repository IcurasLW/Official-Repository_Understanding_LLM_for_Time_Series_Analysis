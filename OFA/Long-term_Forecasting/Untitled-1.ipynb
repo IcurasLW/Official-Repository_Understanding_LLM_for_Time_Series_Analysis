{
 "cells": [
  {
   "cell_type": "code",
   "execution_count": 4,
   "metadata": {},
   "outputs": [
    {
     "name": "stdout",
     "output_type": "stream",
     "text": [
      "Number of available GPUs: 3\n",
      "GPU 0: NVIDIA GeForce RTX 4090\n",
      "GPU 1: NVIDIA GeForce RTX 4090\n",
      "GPU 2: NVIDIA RTX A6000\n"
     ]
    },
    {
     "data": {
      "text/plain": [
       "'cuda'"
      ]
     },
     "execution_count": 4,
     "metadata": {},
     "output_type": "execute_result"
    }
   ],
   "source": [
    "import torch\n",
    "\n",
    "# 检查是否有可用的 GPU\n",
    "if torch.cuda.is_available():\n",
    "    num_gpus = torch.cuda.device_count()\n",
    "    print(f\"Number of available GPUs: {num_gpus}\")\n",
    "    \n",
    "    # 列出所有可用的 GPU\n",
    "    for i in range(num_gpus):\n",
    "        print(f\"GPU {i}: {torch.cuda.get_device_name(i)}\")\n",
    "else:\n",
    "    print(\"No GPU available.\")\n",
    "torch.cuda.set_device(2)\n",
    "device = 'cuda' if torch.cuda.is_available() else 'cpu'\n",
    "device"
   ]
  },
  {
   "cell_type": "code",
   "execution_count": 1,
   "metadata": {},
   "outputs": [
    {
     "data": {
      "text/plain": [
       "array([0.42875, 0.29625, 0.40775, 0.2815 , 0.4205 , 0.29225, 1.06175,\n",
       "       0.6295 , 0.401  , 0.278  , 0.422  , 0.28725])"
      ]
     },
     "execution_count": 1,
     "metadata": {},
     "output_type": "execute_result"
    }
   ],
   "source": [
    "\n",
    "import numpy as np \n",
    "\n",
    "\n",
    "data =  [[0.393 , 0.288 , 0.378 , 0.266 , 0.399 , 0.287 , 0.468 , 0.357 , 0.372 , 0.265 , 0.399 , 0.277],\n",
    "        [0.407 , 0.289 , 0.392 , 0.271 , 0.411 , 0.281 , 0.831 , 0.584 , 0.391 , 0.274 , 0.412 , 0.281],\n",
    "        [0.446 , 0.296 , 0.414 , 0.288 , 0.420 , 0.292 , 1.395 , 0.775 , 0.400 , 0.275 , 0.421 , 0.286],\n",
    "        [0.469 , 0.312 , 0.447 , 0.301 , 0.452 , 0.309 , 1.553 , 0.802 , 0.441 , 0.298 , 0.456 , 0.305]]\n",
    "\n",
    "np.mean(data, axis=0)"
   ]
  },
  {
   "cell_type": "code",
   "execution_count": null,
   "metadata": {},
   "outputs": [],
   "source": []
  },
  {
   "cell_type": "code",
   "execution_count": null,
   "metadata": {},
   "outputs": [],
   "source": []
  },
  {
   "cell_type": "code",
   "execution_count": null,
   "metadata": {},
   "outputs": [],
   "source": []
  },
  {
   "cell_type": "code",
   "execution_count": 8,
   "metadata": {},
   "outputs": [
    {
     "name": "stdout",
     "output_type": "stream",
     "text": [
      "0.4243\n"
     ]
    }
   ],
   "source": [
    "import numpy as np\n",
    "\n",
    "\n",
    "data = [0.3783, 0.4175, 0.4468, 0.4468, 0.4321]\n",
    "print(np.mean(data))"
   ]
  }
 ],
 "metadata": {
  "kernelspec": {
   "display_name": "IRTS",
   "language": "python",
   "name": "python3"
  },
  "language_info": {
   "codemirror_mode": {
    "name": "ipython",
    "version": 3
   },
   "file_extension": ".py",
   "mimetype": "text/x-python",
   "name": "python",
   "nbconvert_exporter": "python",
   "pygments_lexer": "ipython3",
   "version": "3.10.14"
  }
 },
 "nbformat": 4,
 "nbformat_minor": 2
}
